{
 "cells": [
  {
   "cell_type": "code",
   "execution_count": 1,
   "metadata": {},
   "outputs": [
    {
     "name": "stdout",
     "output_type": "stream",
     "text": [
      "enter the string: anaconda\n",
      "the length of string is 8\n"
     ]
    }
   ],
   "source": [
    "# 1. Write a Python program to calculate the length of a string. \n",
    "name=input(\"enter the string: \")\n",
    "print(\"the length of string is {}\".format(len(name)))"
   ]
  },
  {
   "cell_type": "code",
   "execution_count": 2,
   "metadata": {},
   "outputs": [
    {
     "name": "stdout",
     "output_type": "stream",
     "text": [
      "enter the string: google.com\n",
      "{'g': 2, 'o': 3, 'l': 1, 'e': 1, '.': 1, 'c': 1, 'm': 1}\n"
     ]
    }
   ],
   "source": [
    "# 2.  Write a Python program to count the number of characters (character frequency) in a string\n",
    "str1=input(\"enter the string: \")\n",
    "dic={}\n",
    "for char in str1:\n",
    "    if char in dic:\n",
    "        dic[char]+=1\n",
    "    else:\n",
    "        dic[char]=1\n",
    "print(dic)"
   ]
  },
  {
   "cell_type": "code",
   "execution_count": 3,
   "metadata": {},
   "outputs": [
    {
     "name": "stdout",
     "output_type": "stream",
     "text": [
      "enter the string: w3resource\n",
      "w3ce\n"
     ]
    }
   ],
   "source": [
    "# 3.  Write a Python program to get a string made of the first 2 and the last 2 chars from a given a string. If the string length is less than 2, return instead of the empty string.\n",
    "str2=input(\"enter the string: \")\n",
    "if len(str2)<2:\n",
    "    print(\"Empty String\")\n",
    "else:\n",
    "    print(str2[:2]+str2[-2:])"
   ]
  },
  {
   "cell_type": "code",
   "execution_count": 8,
   "metadata": {},
   "outputs": [
    {
     "name": "stdout",
     "output_type": "stream",
     "text": [
      "enter the stringrestart\n"
     ]
    },
    {
     "data": {
      "text/plain": [
       "'resta$t'"
      ]
     },
     "execution_count": 8,
     "metadata": {},
     "output_type": "execute_result"
    }
   ],
   "source": [
    "# 4.  Write a Python program to get a string from a given string where all occurrences of its first char have been changed to '$', except the first char itself\n",
    "str3=input(\"enter the string\")\n",
    "str3=str3[0]+str3[1:].replace(str3[0],\"$\")\n",
    "str3\n"
   ]
  },
  {
   "cell_type": "code",
   "execution_count": 10,
   "metadata": {},
   "outputs": [
    {
     "name": "stdout",
     "output_type": "stream",
     "text": [
      "enter the string: abc \n",
      "enter the string: xyz\n",
      "xyc  abz\n"
     ]
    }
   ],
   "source": [
    "# 5. Write a Python program to get a single string from two given strings, separated by a space and swap the first two characters of each string\n",
    "str1=input(\"enter the string: \")\n",
    "str2=input(\"enter the string: \")\n",
    "print((str2[:2]+str1[2:])+\" \"+(str1[:2]+str2[2:]))"
   ]
  },
  {
   "cell_type": "code",
   "execution_count": 16,
   "metadata": {},
   "outputs": [
    {
     "name": "stdout",
     "output_type": "stream",
     "text": [
      "enter the string: ab\n"
     ]
    }
   ],
   "source": [
    "# 6. Write a Python program to add 'ing' at the end of a given string (length should be at least 3). If the given string already ends with 'ing' then add 'ly' instead. If the string length of the given string is less than 3, leave it unchanged. \n",
    "str1=input(\"enter the string: \")\n",
    "if len(str1)>=3:\n",
    "    if str1.endswith(\"ing\"):\n",
    "        print(str1+\"ly\")\n",
    "    else:\n",
    "        print(str1+\"ing\")\n",
    "else:\n",
    "    pass\n",
    "        "
   ]
  },
  {
   "cell_type": "code",
   "execution_count": 18,
   "metadata": {},
   "outputs": [
    {
     "name": "stdout",
     "output_type": "stream",
     "text": [
      "enter the string: The lyrics is not that poor!\n",
      "The lyrics is good!\n"
     ]
    }
   ],
   "source": [
    "# 7.  Write a Python program to find the first appearance of the substring 'not' and 'poor' from a given string, if 'not' follows the 'poor', replace the whole 'not'...'poor' substring with 'good'. \n",
    "str1=input(\"enter the string: \")\n",
    "i=str1.find(\"not\")\n",
    "j=str1.find(\"poor\")\n",
    "if i<j and i>0 and j>0:\n",
    "    str1=str1.replace(str1[i:j+4],\"good\")\n",
    "    print(str1)\n",
    "else:\n",
    "    print(str1)\n",
    "    \n"
   ]
  },
  {
   "cell_type": "code",
   "execution_count": 20,
   "metadata": {},
   "outputs": [
    {
     "data": {
      "text/plain": [
       "6"
      ]
     },
     "execution_count": 20,
     "metadata": {},
     "output_type": "execute_result"
    }
   ],
   "source": [
    "# 8. Write a Python function that takes a list of words and returns the length of the longest one\n",
    "def list_of_words(lst):\n",
    "    word_len=[]\n",
    "    for i in lst:\n",
    "        word_len.append(len(i))\n",
    "    word_len.sort(reverse=True)\n",
    "    return word_len[0]\n",
    "list_of_words(['ram',\"pinki\",'poonam',\"devaj\"])\n",
    "        "
   ]
  },
  {
   "cell_type": "code",
   "execution_count": 22,
   "metadata": {},
   "outputs": [
    {
     "name": "stdout",
     "output_type": "stream",
     "text": [
      "enter the string: python\n",
      "python\n",
      "enter the index2\n",
      "pyhon\n"
     ]
    }
   ],
   "source": [
    "# 9. Write a Python program to remove the nth index character from a nonempty string\n",
    "str1=input(\"enter the string: \")\n",
    "print(str1)\n",
    "n=int(input(\"enter the index\"))\n",
    "print(str1[:n]+str1[n+1:])"
   ]
  },
  {
   "cell_type": "code",
   "execution_count": 26,
   "metadata": {},
   "outputs": [
    {
     "name": "stdout",
     "output_type": "stream",
     "text": [
      "enter the string: punia\n",
      "punia\n",
      "aunip\n"
     ]
    }
   ],
   "source": [
    "# 10. Write a Python program to change a given string to a new string where the first and last chars have been exchanged.\n",
    "str1=input(\"enter the string: \")\n",
    "print(str1)\n",
    "print(str1[-1]+str1[1:-1]+str1[0])"
   ]
  },
  {
   "cell_type": "code",
   "execution_count": 32,
   "metadata": {},
   "outputs": [
    {
     "name": "stdout",
     "output_type": "stream",
     "text": [
      "enter the string: python\n",
      "pto\n"
     ]
    }
   ],
   "source": [
    "# 11. Write a Python program to remove the characters which have odd index values of a given string.\n",
    "str1=input(\"enter the string: \")\n",
    "res=''\n",
    "for i in range(len(str1)):\n",
    "    if i%2==0:\n",
    "        res=res+str1[i]\n",
    "print(res)"
   ]
  },
  {
   "cell_type": "code",
   "execution_count": 33,
   "metadata": {},
   "outputs": [
    {
     "name": "stdout",
     "output_type": "stream",
     "text": [
      "enter the string: the quick brown fox jumps over the lazy dog\n"
     ]
    },
    {
     "data": {
      "text/plain": [
       "{'the': 2,\n",
       " 'quick': 1,\n",
       " 'brown': 1,\n",
       " 'fox': 1,\n",
       " 'jumps': 1,\n",
       " 'over': 1,\n",
       " 'lazy': 1,\n",
       " 'dog': 1}"
      ]
     },
     "execution_count": 33,
     "metadata": {},
     "output_type": "execute_result"
    }
   ],
   "source": [
    "# 12. Write a Python program to count the occurrences of each word in a given sentence\n",
    "str1=input(\"enter the string: \")\n",
    "counts={}\n",
    "words=str1.split()\n",
    "for word in words:\n",
    "    if word in counts:\n",
    "        counts[word]+=1\n",
    "    else:\n",
    "        counts[word]=1\n",
    "counts\n"
   ]
  },
  {
   "cell_type": "code",
   "execution_count": 34,
   "metadata": {},
   "outputs": [
    {
     "name": "stdout",
     "output_type": "stream",
     "text": [
      "enter the string: Ram Punia\n",
      "ram punia RAM PUNIA\n"
     ]
    }
   ],
   "source": [
    "# 13. Write a Python script that takes input from the user and displays that input back in upper and lower cases.\n",
    "str1=input(\"enter the string: \")\n",
    "print(str1.lower(),str1.upper())"
   ]
  },
  {
   "cell_type": "code",
   "execution_count": 41,
   "metadata": {},
   "outputs": [
    {
     "name": "stdout",
     "output_type": "stream",
     "text": [
      "enter the sequence of words: red, white, black, red, green, black\n",
      "['red', ' white', ' black', ' red', ' green', ' black']\n",
      "[' red', ' black', ' green', ' white', 'red']\n",
      "[' black', ' green', ' red', ' white', 'red']\n"
     ]
    }
   ],
   "source": [
    "# 14.  Write a Python program that accepts a comma separated sequence of words as input and prints the unique words in sorted form (alphanumerically).\n",
    "lst=input(\"enter the sequence of words: \")\n",
    "lst1=lst.split(\",\")\n",
    "print(lst1)\n",
    "lst1=list(set(lst1))\n",
    "print(lst1)\n",
    "print(sorted(lst1))"
   ]
  },
  {
   "cell_type": "code",
   "execution_count": 1,
   "metadata": {},
   "outputs": [
    {
     "name": "stdout",
     "output_type": "stream",
     "text": [
      "<b>Python Tutorial</b>\n"
     ]
    }
   ],
   "source": [
    "# 15,  Write a Python function to create the HTML string with tags around the word(s)\n",
    "def add_tags(tag,string):\n",
    "    print(\"<{}>{}</{}>\".format(tag,string,tag))\n",
    "add_tags('b', 'Python Tutorial')"
   ]
  },
  {
   "cell_type": "code",
   "execution_count": 3,
   "metadata": {},
   "outputs": [
    {
     "data": {
      "text/plain": [
       "'[[Python]]'"
      ]
     },
     "execution_count": 3,
     "metadata": {},
     "output_type": "execute_result"
    }
   ],
   "source": [
    "# 16.  Write a Python function to insert a string in the middle of a string\n",
    "def insert_sting_middle(str,word):\n",
    "    return str[:2]+word+str[2:]\n",
    "insert_sting_middle('[[]]', 'Python')"
   ]
  },
  {
   "cell_type": "code",
   "execution_count": 4,
   "metadata": {},
   "outputs": [
    {
     "data": {
      "text/plain": [
       "'onononon'"
      ]
     },
     "execution_count": 4,
     "metadata": {},
     "output_type": "execute_result"
    }
   ],
   "source": [
    "#17. . Write a Python function to get a string made of 4 copies of the last two characters of a specified string (length must be at least 2).\n",
    "def insert_end(word):\n",
    "    return word[-2:]*4\n",
    "insert_end('Python') \n"
   ]
  },
  {
   "cell_type": "code",
   "execution_count": 7,
   "metadata": {},
   "outputs": [
    {
     "name": "stdout",
     "output_type": "stream",
     "text": [
      "ipy\n",
      "pyt\n"
     ]
    }
   ],
   "source": [
    "# 18. Write a Python function to get a string made of its first three characters of a specified string. If the length of the string is less than 3 then return the original string\n",
    "def first_three(str1):\n",
    "    if len(str1)<3:\n",
    "        return str1\n",
    "    else:\n",
    "        return str1[:3]\n",
    "\n",
    "print(first_three('ipy')) \n",
    "print(first_three('python'))    "
   ]
  },
  {
   "cell_type": "code",
   "execution_count": 22,
   "metadata": {},
   "outputs": [
    {
     "data": {
      "text/plain": [
       "'https://www.w3resource.com'"
      ]
     },
     "execution_count": 22,
     "metadata": {},
     "output_type": "execute_result"
    }
   ],
   "source": [
    "# 19.\n",
    "str1=\"https://www.w3resource.com/python-exercises\"\n",
    "str1.rsplit('/',1)[0]"
   ]
  },
  {
   "cell_type": "code",
   "execution_count": 4,
   "metadata": {},
   "outputs": [
    {
     "name": "stdout",
     "output_type": "stream",
     "text": [
      "inup\n",
      "None\n"
     ]
    }
   ],
   "source": [
    "# 20. Write a Python function to reverses a string if it's length is a multiple of 4\n",
    "def reverse_string(str1):\n",
    "    if len(str1)%4==0:\n",
    "        return str1[::-1]\n",
    "    \n",
    "print(reverse_string(\"puni\"))\n",
    "print(reverse_string(\"ram\"))"
   ]
  },
  {
   "cell_type": "code",
   "execution_count": 4,
   "metadata": {},
   "outputs": [
    {
     "data": {
      "text/plain": [
       "'RAM PUNIA'"
      ]
     },
     "execution_count": 4,
     "metadata": {},
     "output_type": "execute_result"
    }
   ],
   "source": [
    "#  21.Write a Python function to convert a given string to all uppercase if it contains at least 2 uppercase characters in the first 4 characters\n",
    "def uppercase(str1):\n",
    "    counts=0\n",
    "    for ch in str1[:4]:\n",
    "        if ch.upper()==ch:\n",
    "            counts+=1\n",
    "    if counts>=2:\n",
    "        return str1.upper()\n",
    "    return str1\n",
    "uppercase(\"RaM punia\")\n",
    "        "
   ]
  },
  {
   "cell_type": "code",
   "execution_count": 7,
   "metadata": {},
   "outputs": [
    {
     "name": "stdout",
     "output_type": "stream",
     "text": [
      "enter the string: w3resource\n",
      "['3', 'c', 'e', 'e', 'o', 'r', 'r', 's', 'u', 'w']\n"
     ]
    }
   ],
   "source": [
    "# 22. Write a Python program to sort a string lexicographically.\n",
    "str1=input(\"enter the string: \")\n",
    "print(sorted(str1))"
   ]
  },
  {
   "cell_type": "code",
   "execution_count": 14,
   "metadata": {},
   "outputs": [
    {
     "name": "stdout",
     "output_type": "stream",
     "text": [
      "Python Exercises \n",
      " for practice\n",
      "Python Exercises \n",
      " for practice\n"
     ]
    }
   ],
   "source": [
    "# 23. Write a Python program to remove a newline in Python.\n",
    "str1='Python Exercises \\n for practice'\n",
    "print(str1)\n",
    "print(str1.rstrip(\"\\n\"))\n",
    "wrong not able to do"
   ]
  },
  {
   "cell_type": "code",
   "execution_count": 28,
   "metadata": {},
   "outputs": [
    {
     "data": {
      "text/plain": [
       "False"
      ]
     },
     "execution_count": 28,
     "metadata": {},
     "output_type": "execute_result"
    }
   ],
   "source": [
    "# 24. Write a Python program to check whether a string starts with specified characters.\n",
    "def starts_with(ch,str1):\n",
    "    return str1.startswith(ch)\n",
    "        \n",
    "starts_with(\"p\",\"Cunia\")"
   ]
  },
  {
   "cell_type": "code",
   "execution_count": 29,
   "metadata": {},
   "outputs": [
    {
     "name": "stdout",
     "output_type": "stream",
     "text": [
      "\n",
      "['c', 'd', 'e']\n",
      "\n"
     ]
    }
   ],
   "source": [
    "# 25, Write a Python program to create a Caesar encryption. \n",
    "def caesar_encrypt(realText, step):\n",
    "\toutText = []\n",
    "\tcryptText = []\n",
    "\t\n",
    "\tuppercase = ['A', 'B', 'C', 'D', 'E', 'F', 'G', 'H', 'I', 'J', 'K', 'L', 'M', 'N', 'O', 'P', 'Q', 'R', 'S', 'T', 'U', 'V', 'W', 'X', 'Y', 'Z']\n",
    "\tlowercase = ['a', 'b', 'c', 'd', 'e', 'f', 'g', 'h', 'i', 'j', 'k', 'l', 'm', 'n', 'o', 'p', 'q', 'r', 's', 't', 'u', 'v', 'w', 'x', 'y', 'z']\n",
    "\n",
    "\tfor eachLetter in realText:\n",
    "\t\tif eachLetter in uppercase:\n",
    "\t\t\tindex = uppercase.index(eachLetter)\n",
    "\t\t\tcrypting = (index + step) % 26\n",
    "\t\t\tcryptText.append(crypting)\n",
    "\t\t\tnewLetter = uppercase[crypting]\n",
    "\t\t\toutText.append(newLetter)\n",
    "\t\telif eachLetter in lowercase:\n",
    "\t\t\tindex = lowercase.index(eachLetter)\n",
    "\t\t\tcrypting = (index + step) % 26\n",
    "\t\t\tcryptText.append(crypting)\n",
    "\t\t\tnewLetter = lowercase[crypting]\n",
    "\t\t\toutText.append(newLetter)\n",
    "\treturn outText\n",
    "\n",
    "code = caesar_encrypt('abc', 2)\n",
    "print()\n",
    "print(code)\n",
    "print()"
   ]
  },
  {
   "cell_type": "code",
   "execution_count": 31,
   "metadata": {},
   "outputs": [
    {
     "name": "stdout",
     "output_type": "stream",
     "text": [
      "enter the floating numbers: 23.44654654\n",
      "23.45\n"
     ]
    }
   ],
   "source": [
    "# 30. Write a Python program to print the following floating numbers upto 2 decimal places.\n",
    "n=float(input(\"enter the floating numbers: \"))\n",
    "print(\"{:.2f}\".format(n))"
   ]
  },
  {
   "cell_type": "code",
   "execution_count": 37,
   "metadata": {},
   "outputs": [
    {
     "name": "stdout",
     "output_type": "stream",
     "text": [
      "\n",
      "Original Number:  3\n",
      "Formatted Number(left padding, width 2): 03\n",
      "Original Number:  123\n",
      "Formatted Number(right padding, width 6): 123000\n",
      "\n"
     ]
    }
   ],
   "source": [
    "# 33.  Write a Python program to print the following integers with zeros on the left of specified width.\n",
    "x = 3\n",
    "y = 123\n",
    "print(\"\\nOriginal Number: \", x)\n",
    "print(\"Formatted Number(left padding, width 2): \"+\"{:0>2d}\".format(x));\n",
    "print(\"Original Number: \", y)\n",
    "print(\"Formatted Number(right padding, width 6): \"+\"{:0<6d}\".format(y));\n",
    "print()\n"
   ]
  },
  {
   "cell_type": "code",
   "execution_count": 35,
   "metadata": {},
   "outputs": [
    {
     "name": "stdout",
     "output_type": "stream",
     "text": [
      "\n",
      "Original Number:  3\n",
      "Formatted Number(right padding, width 2):  3*\n",
      "Original Number:  123\n",
      "Formatted Number(right padding, width 6):  123***\n",
      "\n"
     ]
    }
   ],
   "source": [
    "# 34.  Write a Python program to print the following integers with '*' on the right of specified width\n",
    "x = 3\n",
    "y = 123\n",
    "print(\"\\nOriginal Number: \", x)\n",
    "print(\"Formatted Number(right padding, width 2): \"+\"{:*< 3d}\".format(x));\n",
    "print(\"Original Number: \", y)\n",
    "print(\"Formatted Number(right padding, width 6): \"+\"{:*< 7d}\".format(y));\n",
    "print()\n"
   ]
  },
  {
   "cell_type": "code",
   "execution_count": 40,
   "metadata": {},
   "outputs": [
    {
     "name": "stdout",
     "output_type": "stream",
     "text": [
      "\n",
      "Original Number:  3000000\n",
      "Formatted Number with comma separator: 3,000,000\n",
      "Original Number:  30000000\n",
      "Formatted Number with comma separator: 30,000,000\n",
      "\n"
     ]
    }
   ],
   "source": [
    "# 35. Write a Python program to display a number with a comma separator\n",
    "x = 3000000\n",
    "y = 30000000\n",
    "print(\"\\nOriginal Number: \", x)\n",
    "print(\"Formatted Number with comma separator: \"+\"{:,}\".format(x));\n",
    "print(\"Original Number: \", y)\n",
    "print(\"Formatted Number with comma separator: \"+\"{:,}\".format(y));\n",
    "print()\n"
   ]
  },
  {
   "cell_type": "code",
   "execution_count": 41,
   "metadata": {},
   "outputs": [
    {
     "name": "stdout",
     "output_type": "stream",
     "text": [
      "\n",
      "Original Number:  0.25\n",
      "Formatted Number with percentage: 25.00%\n",
      "Original Number:  -0.25\n",
      "Formatted Number with percentage: -25.00%\n",
      "\n"
     ]
    }
   ],
   "source": [
    "# 36. Write a Python program to format a number with a percentage.\n",
    "x = 0.25\n",
    "y = -0.25\n",
    "print(\"\\nOriginal Number: \", x)\n",
    "print(\"Formatted Number with percentage: \"+\"{:.2%}\".format(x));\n",
    "print(\"Original Number: \", y)\n",
    "print(\"Formatted Number with percentage: \"+\"{:.2%}\".format(y));\n",
    "print()\n"
   ]
  },
  {
   "cell_type": "code",
   "execution_count": 42,
   "metadata": {},
   "outputs": [
    {
     "name": "stdout",
     "output_type": "stream",
     "text": [
      "\n",
      "Original Number:  22\n",
      "Left aligned (width 10)   : 22       \n",
      "Right aligned (width 10)  :        22\n",
      "Center aligned (width 10) :    22    \n",
      "\n"
     ]
    }
   ],
   "source": [
    "#37 .Write a Python program to display a number in left, right and center aligned of width 10#\n",
    "\n",
    "x = 22\n",
    "print(\"\\nOriginal Number: \", x)\n",
    "print(\"Left aligned (width 10)   :\"+\"{:< 10d}\".format(x));\n",
    "print(\"Right aligned (width 10)  :\"+\"{:10d}\".format(x));\n",
    "print(\"Center aligned (width 10) :\"+\"{:^10d}\".format(x));\n",
    "print()"
   ]
  },
  {
   "cell_type": "code",
   "execution_count": 46,
   "metadata": {},
   "outputs": [
    {
     "name": "stdout",
     "output_type": "stream",
     "text": [
      "\n",
      "2\n",
      "\n"
     ]
    }
   ],
   "source": [
    "#38. Write a Python program to count occurrences of a substring in a string\n",
    "str1 = 'The quick brown fox jumps over the lazy dog.'\n",
    "print()\n",
    "print(str1.lower().count(\"the\"))\n",
    "print()\n"
   ]
  },
  {
   "cell_type": "code",
   "execution_count": 53,
   "metadata": {},
   "outputs": [
    {
     "data": {
      "text/plain": [
       "['dog.', 'lazy', 'the', 'over', 'jumps', 'fox', 'brown', 'quick', 'The']"
      ]
     },
     "execution_count": 53,
     "metadata": {},
     "output_type": "execute_result"
    }
   ],
   "source": [
    "# 40. Write a Python program to reverse words in a string.\n",
    "str1=\"The quick brown fox jumps over the lazy dog.\"\n",
    "str1.split()[::-1]"
   ]
  },
  {
   "cell_type": "code",
   "execution_count": 3,
   "metadata": {},
   "outputs": [
    {
     "name": "stdout",
     "output_type": "stream",
     "text": [
      "\n",
      "Original String: \n",
      "The quick brown fox jumps over the lazy dog.\n",
      "After stripping a,e,i,o,u\n",
      "Th qck brwn fx jmps vr th lzy dg.\n",
      "\n"
     ]
    }
   ],
   "source": [
    "# 41. Write a Python program to strip a set of characters from a string\n",
    "def strip_chars(str, chars):\n",
    "    return \"\".join(c for c in str if c not in chars)\n",
    "\n",
    "print(\"\\nOriginal String: \")\n",
    "print(\"The quick brown fox jumps over the lazy dog.\")\n",
    "print(\"After stripping a,e,i,o,u\")      \n",
    "print(strip_chars(\"The quick brown fox jumps over the lazy dog.\", \"aeiou\"))\n",
    "print()\n",
    "\n"
   ]
  },
  {
   "cell_type": "code",
   "execution_count": 10,
   "metadata": {},
   "outputs": [
    {
     "name": "stdout",
     "output_type": "stream",
     "text": [
      "t 2\n",
      "h 2\n",
      "e 3\n",
      "u 2\n",
      "r 2\n",
      "o 4\n"
     ]
    }
   ],
   "source": [
    "# 42. Write a Python program to count repeated characters in a string.\n",
    "str1=\"thequickbrownfoxjumpsoverthelazydog\"\n",
    "count = {}\n",
    "for s in str1:\n",
    "  if s in count:\n",
    "    count[s] += 1\n",
    "  else:\n",
    "    count[s] = 1\n",
    "\n",
    "for key in (count):\n",
    "  if count[key] > 1:\n",
    "    print (key, count[key])"
   ]
  },
  {
   "cell_type": "code",
   "execution_count": 11,
   "metadata": {},
   "outputs": [
    {
     "name": "stdout",
     "output_type": "stream",
     "text": [
      "The area of the rectangle is 1256.66cm²\n",
      "The volume of the cylinder is 1254.725cm³\n"
     ]
    }
   ],
   "source": [
    "# 43.  Write a Python program to print the square and cube symbol in the area of a rectangle and volume of a cylinder\n",
    "area = 1256.66\n",
    "volume = 1254.725\n",
    "decimals = 2\n",
    "print(\"The area of the rectangle is {0:.{1}f}cm\\u00b2\".format(area, decimals))\n",
    "decimals = 3\n",
    "print(\"The volume of the cylinder is {0:.{1}f}cm\\u00b3\".format(volume, decimals))\n"
   ]
  },
  {
   "cell_type": "code",
   "execution_count": 5,
   "metadata": {},
   "outputs": [
    {
     "name": "stdout",
     "output_type": "stream",
     "text": [
      "Current character w position at 0\n",
      "Current character 3 position at 1\n",
      "Current character r position at 2\n",
      "Current character e position at 3\n",
      "Current character s position at 4\n",
      "Current character o position at 5\n",
      "Current character u position at 6\n",
      "Current character r position at 7\n",
      "Current character c position at 8\n",
      "Current character e position at 9\n"
     ]
    }
   ],
   "source": [
    "# 44, Write a Python program to print the index of the character in a string\n",
    "str1=\"w3resource\"\n",
    "for i in range(len(str1)):\n",
    "        print(\"Current character {} position at {}\".format(str1[i],i))\n"
   ]
  },
  {
   "cell_type": "code",
   "execution_count": 9,
   "metadata": {},
   "outputs": [
    {
     "name": "stdout",
     "output_type": "stream",
     "text": [
      "False\n",
      "True\n"
     ]
    }
   ],
   "source": [
    "# 45.Write a Python program to check if a string contains all letters of the alphabet\n",
    "str1=\"w3resource\"\n",
    "print(str1.isalpha())\n",
    "str2=\"pyhon\"\n",
    "print(str2.isalpha())"
   ]
  },
  {
   "cell_type": "code",
   "execution_count": 14,
   "metadata": {},
   "outputs": [
    {
     "name": "stdout",
     "output_type": "stream",
     "text": [
      "['The', 'quick', 'brown', 'fox', 'jumps', 'over', 'the', 'lazy', 'dog']\n",
      "['p', 'y', 'h', 'o', 'n']\n"
     ]
    }
   ],
   "source": [
    "# 46.  Write a Python program to convert a string in a list.\n",
    "str1=\"The quick brown fox jumps over the lazy dog\"\n",
    "print(str1.split())\n",
    "str2=\"pyhon\"\n",
    "print(list(str2))"
   ]
  },
  {
   "cell_type": "code",
   "execution_count": 15,
   "metadata": {},
   "outputs": [
    {
     "name": "stdout",
     "output_type": "stream",
     "text": [
      "pytHON\n"
     ]
    }
   ],
   "source": [
    "# 47. Write a Python program to lowercase first n characters in a string\n",
    "str1=\"PYTHON\"\n",
    "print(str1[:3].lower()+str1[3:])\n"
   ]
  },
  {
   "cell_type": "code",
   "execution_count": 17,
   "metadata": {},
   "outputs": [
    {
     "data": {
      "text/plain": [
       "'32.054.23'"
      ]
     },
     "execution_count": 17,
     "metadata": {},
     "output_type": "execute_result"
    }
   ],
   "source": [
    "#48. Write a Python program to swap comma and dot in a string\n",
    "str1=\"32.054,23\"\n",
    "str1.replace(\".\",\",\").replace(\",\",\".\")"
   ]
  },
  {
   "cell_type": "code",
   "execution_count": 24,
   "metadata": {},
   "outputs": [
    {
     "name": "stdout",
     "output_type": "stream",
     "text": [
      "enter the text: ram punia\n",
      "4\n",
      "auia"
     ]
    }
   ],
   "source": [
    "#49.Write a Python program to count and display the vowels of a given text. \n",
    "str1=input(\"enter the text: \")\n",
    "count=0\n",
    "for i in str1:\n",
    "    if i.lower() in \"aeiou\":\n",
    "        count+=1\n",
    "print(count)\n",
    "for i in str1:\n",
    "    if i.lower() in \"aeiou\":\n",
    "        print(i,end=\"\")"
   ]
  },
  {
   "cell_type": "code",
   "execution_count": 25,
   "metadata": {},
   "outputs": [
    {
     "name": "stdout",
     "output_type": "stream",
     "text": [
      "['w,3,r,e,s,o,u,r,c', 'e']\n",
      "['w,3,r,e,s,o,u,r', 'c', 'e']\n",
      "['w,3,r,e,s', 'o', 'u', 'r', 'c', 'e']\n"
     ]
    }
   ],
   "source": [
    "# 50.Write a Python program to split a string on the last occurrence of the delimiter\n",
    "str1 = \"w,3,r,e,s,o,u,r,c,e\"\n",
    "print(str1.rsplit(',', 1))\n",
    "print(str1.rsplit(',', 2))\n",
    "print(str1.rsplit(',', 5))"
   ]
  },
  {
   "cell_type": "code",
   "execution_count": 27,
   "metadata": {},
   "outputs": [
    {
     "name": "stdout",
     "output_type": "stream",
     "text": [
      "a\n",
      "d\n",
      "None\n"
     ]
    }
   ],
   "source": [
    "# 51 Write a Python program to find the first non-repeating character in given string. \n",
    "def first_non_repeating_character(str1):\n",
    "  char_order = []\n",
    "  ctr = {}\n",
    "  for c in str1:\n",
    "    if c in ctr:\n",
    "      ctr[c] += 1\n",
    "    else:\n",
    "      ctr[c] = 1 \n",
    "      char_order.append(c)\n",
    "  for c in char_order:\n",
    "    if ctr[c] == 1:\n",
    "      return c\n",
    "  return None\n",
    "print(first_non_repeating_character('abcdef'))\n",
    "print(first_non_repeating_character('abcabcdef'))\n",
    "print(first_non_repeating_character('aabbcc'))"
   ]
  },
  {
   "cell_type": "code",
   "execution_count": 29,
   "metadata": {},
   "outputs": [
    {
     "name": "stdout",
     "output_type": "stream",
     "text": [
      "None\n",
      "a\n",
      "a\n"
     ]
    }
   ],
   "source": [
    "#53. Write a Python program to find the first repeated character in a given string\n",
    "def first_repeating_character(str1):\n",
    "  char_order = []\n",
    "  ctr = {}\n",
    "  for c in str1:\n",
    "    if c in ctr:\n",
    "      ctr[c] += 1\n",
    "      char_order.append(c)\n",
    "    else:\n",
    "      ctr[c] = 1 \n",
    "      \n",
    "  for c in char_order:\n",
    "    if ctr[c] >1:\n",
    "      return c\n",
    "  return None\n",
    "print(first_repeating_character('abcdef'))\n",
    "print(first_repeating_character('abcabcdef'))\n",
    "print(first_repeating_character('aabbcc'))"
   ]
  },
  {
   "cell_type": "code",
   "execution_count": 30,
   "metadata": {},
   "outputs": [
    {
     "name": "stdout",
     "output_type": "stream",
     "text": [
      "a\n",
      "b\n",
      "b\n",
      "x\n",
      "None\n"
     ]
    }
   ],
   "source": [
    "#54. Write a Python program to find the first repeated character of a given string where the index of first occurrence is smallest.\n",
    "def first_repeated_char_smallest_distance(str1):\n",
    "  temp = {}\n",
    "  for ch in str1:\n",
    "    if ch in temp:\n",
    "      return ch;\n",
    "    else:\n",
    "      temp[ch] = 0\n",
    "  return 'None'\n",
    "print(first_repeated_char_smallest_distance(\"abcabc\"))\n",
    "print(first_repeated_char_smallest_distance(\"abbcabc\"))\n",
    "print(first_repeated_char_smallest_distance(\"abcbabc\"))\n",
    "print(first_repeated_char_smallest_distance(\"abcxxy\"))\n",
    "print(first_repeated_char_smallest_distance(\"abc\"))\n",
    "\n"
   ]
  },
  {
   "cell_type": "code",
   "execution_count": 42,
   "metadata": {},
   "outputs": [
    {
     "name": "stdout",
     "output_type": "stream",
     "text": [
      "ab\n",
      "ab\n",
      "ca\n",
      "None\n"
     ]
    }
   ],
   "source": [
    "# 55. Write a Python program to find the first repeated word in a given string\n",
    "\n",
    "def first_repeated_word(str1):\n",
    "  temp = set()\n",
    "  for word in str1.split():\n",
    "    if word in temp:\n",
    "      return word;\n",
    "    else:\n",
    "      temp.add(word)\n",
    "  return 'None'\n",
    "print(first_repeated_word(\"ab ca bc ab\"))\n",
    "print(first_repeated_word(\"ab ca bc ab ca ab bc\"))\n",
    "print(first_repeated_word(\"ab ca bc ca ab bc\"))\n",
    "print(first_repeated_word(\"ab ca bc\"))"
   ]
  },
  {
   "cell_type": "code",
   "execution_count": 43,
   "metadata": {},
   "outputs": [
    {
     "name": "stdout",
     "output_type": "stream",
     "text": [
      "('of', 4)\n"
     ]
    }
   ],
   "source": [
    "# 56.Write a Python program to find the second most repeated word in a given string.\n",
    "def word_count(str):\n",
    "    counts = dict()\n",
    "    words = str.split()\n",
    "\n",
    "    for word in words:\n",
    "        if word in counts:\n",
    "            counts[word] += 1\n",
    "        else:\n",
    "            counts[word] = 1\n",
    "\n",
    "    counts_x = sorted(counts.items(), key=lambda kv: kv[1])\n",
    "    #print(counts_x)\n",
    "    return counts_x[-2]\n",
    " \n",
    "print(word_count(\"Both of these issues are fixed by postponing the evaluation of annotations. Instead of compiling code which executes expressions in annotations at their definition time, the compiler stores the annotation in a string form equivalent to the AST of the expression in question. If needed, annotations can be resolved at runtime using typing.get_type_hints(). In the common case where this is not required, the annotations are cheaper to store (since short strings are interned by the interpreter) and make startup time faster.\"))"
   ]
  },
  {
   "cell_type": "code",
   "execution_count": 45,
   "metadata": {},
   "outputs": [
    {
     "name": "stdout",
     "output_type": "stream",
     "text": [
      "Rampunia\n"
     ]
    }
   ],
   "source": [
    "#57 Write a Python program to remove spaces from a given string\n",
    "str1=\"Ram punia\"\n",
    "print(\"\".join(str1.split()))"
   ]
  },
  {
   "cell_type": "code",
   "execution_count": 46,
   "metadata": {},
   "outputs": [
    {
     "name": "stdout",
     "output_type": "stream",
     "text": [
      "\"     w3resource.com\"\n",
      "\"     w3resource.com\"\n"
     ]
    }
   ],
   "source": [
    "#58 Write a Python program to move spaces to the front of a given string.\n",
    "def move_Spaces_front(str1):\n",
    "  noSpaces_char = [ch for ch in str1 if ch!=' ']\n",
    "  spaces_char = len(str1) - len(noSpaces_char)\n",
    "  result = ' '*spaces_char\n",
    "  result = '\"'+result + ''.join(noSpaces_char)+'\"'\n",
    "  return(result)\n",
    "\n",
    "print(move_Spaces_front(\"w3resource .  com  \"))\n",
    "print(move_Spaces_front(\"   w3resource.com  \"))\n"
   ]
  },
  {
   "cell_type": "code",
   "execution_count": 51,
   "metadata": {},
   "outputs": [
    {
     "name": "stdout",
     "output_type": "stream",
     "text": [
      "enter the string:vchavcsgluigylgchcvcvgclc\n"
     ]
    },
    {
     "data": {
      "text/plain": [
       "{'v': 4,\n",
       " 'c': 7,\n",
       " 'h': 2,\n",
       " 'a': 1,\n",
       " 's': 1,\n",
       " 'g': 4,\n",
       " 'l': 3,\n",
       " 'u': 1,\n",
       " 'i': 1,\n",
       " 'y': 1}"
      ]
     },
     "execution_count": 51,
     "metadata": {},
     "output_type": "execute_result"
    }
   ],
   "source": [
    "#59 Write a Python program to find the maximum occurring character in a given string\n",
    "str1=input(\"enter the string:\")\n",
    "dic={}\n",
    "for c in str1:\n",
    "    if c in dic:\n",
    "        dic[c]+=1\n",
    "    else:\n",
    "        dic[c]=1\n",
    "dic"
   ]
  },
  {
   "cell_type": "code",
   "execution_count": 55,
   "metadata": {},
   "outputs": [
    {
     "name": "stdout",
     "output_type": "stream",
     "text": [
      "ThE QuicK BrowM FoX JumpS OveR ThE LazY DoG \n"
     ]
    }
   ],
   "source": [
    "#60. Write a Python program to capitalize first and last letters of each word of a given string\n",
    "str1=\"the quick browm fox jumps over the lazy dog\"\n",
    "str1=str1.title()\n",
    "result=\"\"\n",
    "for word in str1.split():\n",
    "    result += word[:-1] + word[-1].upper()+\" \"\n",
    "print(\"\".join(result))\n",
    "    \n",
    "    "
   ]
  },
  {
   "cell_type": "code",
   "execution_count": 58,
   "metadata": {},
   "outputs": [
    {
     "name": "stdout",
     "output_type": "stream",
     "text": [
      "uwcsroe3\n"
     ]
    }
   ],
   "source": [
    "#61  Write a Python program to remove duplicate characters of a given string\n",
    "str1=\"w3resource\"\n",
    "str1=set(list(str1))\n",
    "print(\"\".join(str1))"
   ]
  },
  {
   "cell_type": "code",
   "execution_count": 69,
   "metadata": {},
   "outputs": [
    {
     "name": "stdout",
     "output_type": "stream",
     "text": [
      "15\n"
     ]
    }
   ],
   "source": [
    "#62  Write a Python program to compute sum of digits of a given string\n",
    "str1=\"123abcd45\"\n",
    "sum=0\n",
    "for x in str1:\n",
    "    if x.isdigit()==True:\n",
    "        x=int(x)\n",
    "        sum+=x\n",
    "print(sum)\n"
   ]
  },
  {
   "cell_type": "code",
   "execution_count": 70,
   "metadata": {},
   "outputs": [
    {
     "name": "stdout",
     "output_type": "stream",
     "text": [
      "255.24.1.1\n",
      "127.0.0.1\n"
     ]
    }
   ],
   "source": [
    "#63 Write a Python program to remove leading zeros from an IP address.\n",
    "def remove_zeros_from_ip(ip_add):\n",
    "  new_ip_add = \".\".join([str(int(i)) for i in ip_add.split(\".\")])  \n",
    "  return new_ip_add ;\n",
    "\n",
    "print(remove_zeros_from_ip(\"255.024.01.01\"))\n",
    "print(remove_zeros_from_ip(\"127.0.0.01 \"))"
   ]
  },
  {
   "cell_type": "code",
   "execution_count": 7,
   "metadata": {},
   "outputs": [
    {
     "name": "stdout",
     "output_type": "stream",
     "text": [
      "Original string:111000010000110000000\n",
      "Maximum length of consecutive 0’s:\n",
      "7\n"
     ]
    }
   ],
   "source": [
    "#64 Write a Python program to find maximum length of consecutive 0's in a given binary string.\n",
    "def max_consecutive_0(input_str): \n",
    "     return max(map(len,input_str.split('1')))\n",
    "str1 = '111000010000110000000'\n",
    "print(\"Original string:\" + str1)\n",
    "print(\"Maximum length of consecutive 0’s:\")\n",
    "print(max_consecutive_0(str1))"
   ]
  },
  {
   "cell_type": "code",
   "execution_count": 10,
   "metadata": {},
   "outputs": [],
   "source": [
    "from collections import Counter"
   ]
  },
  {
   "cell_type": "code",
   "execution_count": 13,
   "metadata": {},
   "outputs": [
    {
     "name": "stdout",
     "output_type": "stream",
     "text": [
      "Two strings: Python : PHP\n",
      "P\n",
      "Two strings: Java : PHP\n",
      "No common characters.\n"
     ]
    }
   ],
   "source": [
    "#65 Write a Python program to find all the common characters in lexicographical order from two given lower case strings. If there are no common letters print \"No common characters\"\n",
    "def common_chars(str1,str2): \t\n",
    "\td1 = Counter(str1) \n",
    "\td2 = Counter(str2) \n",
    "\tcommon_dict = d1 & d2 \n",
    "\tif len(common_dict) == 0: \n",
    "\t\treturn \"No common characters.\"\n",
    "\n",
    "\t# list of common elements \n",
    "\tcommon_chars = list(common_dict.elements()) \n",
    "\tcommon_chars = sorted(common_chars) \n",
    "\n",
    "\treturn ''.join(common_chars) \n",
    "\n",
    "str1 = 'Python'\n",
    "str2 = 'PHP'\n",
    "print(\"Two strings: \"+str1+' : '+str2)\n",
    "print(common_chars(str1, str2))\n",
    "str1 = 'Java'\n",
    "str2 = 'PHP'\n",
    "print(\"Two strings: \"+str1+' : '+str2)\n",
    "print(common_chars(str1, str2))"
   ]
  },
  {
   "cell_type": "code",
   "execution_count": 14,
   "metadata": {},
   "outputs": [
    {
     "name": "stdout",
     "output_type": "stream",
     "text": [
      "Original string:xxxxxyyyyy\n",
      "After removing consecutive duplicates: xxxxxyyyyy\n",
      "xy\n"
     ]
    }
   ],
   "source": [
    "#67 Write a Python program to remove all consecutive duplicates of a given string\n",
    "from itertools import groupby \n",
    "def remove_all_consecutive(str1): \n",
    "\tresult_str = [] \n",
    "\tfor (key,group) in groupby(str1): \n",
    "\t\tresult_str.append(key) \n",
    "\n",
    "\treturn ''.join(result_str)\n",
    "\t\n",
    "str1 = 'xxxxxyyyyy'\n",
    "print(\"Original string:\" + str1)\n",
    "print(\"After removing consecutive duplicates: \" + str1)\n",
    "print(remove_all_consecutive(str1))\n"
   ]
  },
  {
   "cell_type": "code",
   "execution_count": null,
   "metadata": {},
   "outputs": [],
   "source": []
  }
 ],
 "metadata": {
  "kernelspec": {
   "display_name": "Python 3",
   "language": "python",
   "name": "python3"
  },
  "language_info": {
   "codemirror_mode": {
    "name": "ipython",
    "version": 3
   },
   "file_extension": ".py",
   "mimetype": "text/x-python",
   "name": "python",
   "nbconvert_exporter": "python",
   "pygments_lexer": "ipython3",
   "version": "3.8.3"
  }
 },
 "nbformat": 4,
 "nbformat_minor": 4
}
